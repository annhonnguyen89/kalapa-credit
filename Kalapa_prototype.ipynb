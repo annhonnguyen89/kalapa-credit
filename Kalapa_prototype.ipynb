// say hi
{
 "cells": [
  {
   "cell_type": "markdown",
   "metadata": {},
   "source": [
    "### 1. Import libraries and data"
   ]
  },
  {
   "cell_type": "code",
   "execution_count": 1,
   "metadata": {},
   "outputs": [],
   "source": [
    "import numpy as np\n",
    "import pandas as pd\n",
    "import matplotlib.pyplot as plt"
   ]
  },
  {
   "cell_type": "code",
   "execution_count": 2,
   "metadata": {},
   "outputs": [
    {
     "name": "stderr",
     "output_type": "stream",
     "text": [
      "C:\\ProgramData\\Anaconda3\\lib\\site-packages\\IPython\\core\\interactiveshell.py:3063: DtypeWarning: Columns (35,43) have mixed types. Specify dtype option on import or set low_memory=False.\n",
      "  interactivity=interactivity, compiler=compiler, result=result)\n"
     ]
    }
   ],
   "source": [
    "file = \"train.csv\"\n",
    "df_train = pd.read_csv(file)"
   ]
  },
  {
   "cell_type": "code",
   "execution_count": 3,
   "metadata": {},
   "outputs": [
    {
     "name": "stderr",
     "output_type": "stream",
     "text": [
      "C:\\ProgramData\\Anaconda3\\lib\\site-packages\\IPython\\core\\interactiveshell.py:3063: DtypeWarning: Columns (34,42) have mixed types. Specify dtype option on import or set low_memory=False.\n",
      "  interactivity=interactivity, compiler=compiler, result=result)\n"
     ]
    }
   ],
   "source": [
    "file = \"test.csv\"\n",
    "df_test = pd.read_csv(file)"
   ]
  },
  {
   "cell_type": "code",
   "execution_count": 4,
   "metadata": {},
   "outputs": [],
   "source": [
    "df = df_train"
   ]
  },
  {
   "cell_type": "code",
   "execution_count": 5,
   "metadata": {
    "scrolled": true
   },
   "outputs": [
    {
     "name": "stdout",
     "output_type": "stream",
     "text": [
      "   id  label                   Field_1               Field_2  Field_3 Field_4  \\\n",
      "0   0      1  2019-07-24T03:39:02.854Z  2019-07-31T20:10:02Z      1.0      GH   \n",
      "1   1      0                       NaN                   NaN      NaN     NaN   \n",
      "2   2      0  2019-01-17T07:15:26.367Z  2019-01-17T07:17:45Z      2.0      T1   \n",
      "3   3      0                       NaN                   NaN      NaN     NaN   \n",
      "4   4      1                       NaN                   NaN      NaN     NaN   \n",
      "\n",
      "      Field_5     Field_6     Field_7     Field_8   ...    partner5_H  \\\n",
      "0  2018-12-27  2018-12-27  2019-01-01  2019-07-31   ...           0.0   \n",
      "1         NaN         NaN         NaN         NaN   ...           0.0   \n",
      "2  2019-01-17  2019-01-17  2019-01-01  2019-12-31   ...           0.0   \n",
      "3         NaN         NaN         NaN         NaN   ...           NaN   \n",
      "4         NaN         NaN         NaN         NaN   ...           NaN   \n",
      "\n",
      "   partner5_K partner5_L brief  num_of_phone  Field_78   Field_79  Field_80  \\\n",
      "0         0.0        0.0   cb1           1.0       NaN        NaN       NaN   \n",
      "1         0.0        0.0     4           1.0       NaN        NaN       NaN   \n",
      "2         0.0        0.0     1           1.0      33.0  10.769445  6.466667   \n",
      "3         NaN        NaN     1           1.0      33.0  10.769445  6.466667   \n",
      "4         NaN        NaN     1           1.0      33.0  10.769445  6.466667   \n",
      "\n",
      "   Field_81 Field_82  \n",
      "0       NaN        1  \n",
      "1       NaN        1  \n",
      "2       0.0        2  \n",
      "3       0.0        3  \n",
      "4       0.0        3  \n",
      "\n",
      "[5 rows x 195 columns]\n",
      "53030\n"
     ]
    }
   ],
   "source": [
    "print(df.head(5))\n",
    "print(len(df))"
   ]
  },
  {
   "cell_type": "markdown",
   "metadata": {},
   "source": [
    "### 2. Analyzing data"
   ]
  },
  {
   "cell_type": "markdown",
   "metadata": {},
   "source": [
    "### 3. Select features"
   ]
  },
  {
   "cell_type": "code",
   "execution_count": 6,
   "metadata": {},
   "outputs": [
    {
     "name": "stdout",
     "output_type": "stream",
     "text": [
      "Có tất cả 195 cột.\n",
      "Có tất cả 195 cột bị thiếu data\n"
     ]
    }
   ],
   "source": [
    "def missing_values(df):\n",
    "    mis_val = df.isnull().sum() #tổng các giá trị còn thiếu\n",
    "    mis_val_per = 100 * df.isnull().sum()/len(df) #Phần trăm các giá trị còn thiếu\n",
    "    mis_val_table = pd.concat([mis_val, mis_val_per], axis=1) #Tạo thành bảng để thể hiện 2 giá trị trên\n",
    "    mis_val_table_rename = mis_val_table.rename(\n",
    "    columns = {0: \"Thiếu\", 1 : \"Chiếm %\"})\n",
    "    #Sắp xếp bảng theo tỉ lệ phần trăm giảm dần\n",
    "    mis_val_table_rename = mis_val_table_rename[mis_val_table_rename.iloc[:, 1] >= 0].sort_values(\"Chiếm %\", ascending=False).round(1)\n",
    "    print(\"Có tất cả \" + str(df.shape[1]) + \" cột.\\n\"\n",
    "          \"Có tất cả \" + str(mis_val_table_rename.shape[0]) + \" cột bị thiếu data\")\n",
    "    return mis_val_table_rename\n",
    "\n",
    "ignore_columns = []\n",
    "missing = missing_values(df)\n",
    "#print(missing)\n",
    "\n",
    "less_missing_columns = list(missing.tail(100).index.values)\n",
    "less_missing_columns.remove('id')\n",
    "#print(less_missing_columns)"
   ]
  },
  {
   "cell_type": "markdown",
   "metadata": {},
   "source": [
    "### 4. Clean data"
   ]
  },
  {
   "cell_type": "code",
   "execution_count": 7,
   "metadata": {},
   "outputs": [
    {
     "name": "stdout",
     "output_type": "stream",
     "text": [
      "['Field_61', 'Field_59', 'Field_58', 'Field_56', 'Field_53', 'Field_39', 'Field_62', 'Field_50', 'Field_47', 'Field_46', 'Field_45', 'Field_44', 'Field_43', 'Field_42', 'Field_41', 'Field_19', 'E_numOrg', 'E_numQuery', 'E_startDate', 'E_endDate', 'Field_79', 'Field_73', 'summary_1m', 'Field_81', 'Field_80', 'Field_78', 'summary_3m', 'A_numOrg', 'A_numQuery', 'A_startDate', 'A_endDate', 'summary_6m', 'numOrg', 'partner3_E', 'partner3_D', 'partner4_L', 'partner5_A', 'partner5_D', 'partner5_E', 'partner5_F', 'partner5_G', 'partner2_H', 'partner3_A', 'partner0_A', 'partner0_C', 'partner0_E', 'partner0_F', 'partner0_G', 'partner0_H', 'partner1_A', 'partner1_C', 'partner1_G', 'partner1_H', 'partner2_A', 'partner2_C', 'partner2_D', 'partner2_E', 'partner2_F', 'partner0_D', 'num_of_phone', 'brief', 'label', 'Field_82']\n",
      "63\n"
     ]
    }
   ],
   "source": [
    "# remove columns with single value\n",
    "count_values = df.apply(pd.Series.nunique)\n",
    "ignore_columns = count_values[count_values==1].index.values\n",
    "retained_columns = [x  for x in less_missing_columns if x not in ignore_columns]\n",
    "print(retained_columns)\n",
    "print(len(retained_columns))"
   ]
  },
  {
   "cell_type": "code",
   "execution_count": 8,
   "metadata": {},
   "outputs": [
    {
     "name": "stdout",
     "output_type": "stream",
     "text": [
      "Index(['Field_61', 'Field_56', 'Field_62', 'Field_47', 'Field_46', 'Field_45',\n",
      "       'Field_44', 'Field_43', 'E_startDate', 'E_endDate', 'A_startDate',\n",
      "       'A_endDate', 'brief'],\n",
      "      dtype='object')\n"
     ]
    }
   ],
   "source": [
    "# check categorical variables\n",
    "categoric_cols = df[retained_columns].select_dtypes('object').columns\n",
    "print(categoric_cols)"
   ]
  },
  {
   "cell_type": "code",
   "execution_count": 9,
   "metadata": {
    "scrolled": true
   },
   "outputs": [
    {
     "name": "stdout",
     "output_type": "stream",
     "text": [
      "Field_61\n",
      "count                        25564\n",
      "unique                          35\n",
      "top       Khối DN Ngoài quốc doanh\n",
      "freq                          8184\n",
      "Name: Field_61, dtype: object\n",
      "\n",
      "\n",
      "Field_56\n",
      "count                                     25564\n",
      "unique                                     1345\n",
      "top       Doanh nghiệp có vốn đầu tư nước ngoài\n",
      "freq                                       6023\n",
      "Name: Field_56, dtype: object\n",
      "\n",
      "\n",
      "Field_62\n",
      "count     25564\n",
      "unique        6\n",
      "top           I\n",
      "freq      17706\n",
      "Name: Field_62, dtype: object\n",
      "\n",
      "\n",
      "Field_47\n",
      "count     25564\n",
      "unique        5\n",
      "top        Zezo\n",
      "freq      10328\n",
      "Name: Field_47, dtype: object\n",
      "\n",
      "\n",
      "Field_46\n",
      "count                                                25564\n",
      "unique                                               14311\n",
      "top       Trung Tâm Dịch Vụ Việc Làm Thành Phố Hồ Chí Minh\n",
      "freq                                                   377\n",
      "Name: Field_46, dtype: object\n",
      "\n",
      "\n",
      "Field_45\n",
      "count       25564\n",
      "unique      10957\n",
      "top       BO0001Z\n",
      "freq          779\n",
      "Name: Field_45, dtype: object\n",
      "\n",
      "\n",
      "Field_44\n",
      "count                    25564\n",
      "unique                    9901\n",
      "top       2019-06-26T10:24:56Z\n",
      "freq                       712\n",
      "Name: Field_44, dtype: object\n",
      "\n",
      "\n",
      "Field_43\n",
      "count                       25564\n",
      "unique                       3605\n",
      "top       2017-03-24T14:37:56.11Z\n",
      "freq                         1461\n",
      "Name: Field_43, dtype: object\n",
      "\n",
      "\n",
      "E_startDate\n",
      "count          25710\n",
      "unique           237\n",
      "top       2019-08-19\n",
      "freq            1277\n",
      "Name: E_startDate, dtype: object\n",
      "\n",
      "\n",
      "E_endDate\n",
      "count          25710\n",
      "unique           228\n",
      "top       2019-08-19\n",
      "freq             460\n",
      "Name: E_endDate, dtype: object\n",
      "\n",
      "\n",
      "A_startDate\n",
      "count          41322\n",
      "unique           399\n",
      "top       2019-09-04\n",
      "freq             342\n",
      "Name: A_startDate, dtype: object\n",
      "\n",
      "\n",
      "A_endDate\n",
      "count          41322\n",
      "unique           351\n",
      "top       2019-11-26\n",
      "freq             362\n",
      "Name: A_endDate, dtype: object\n",
      "\n",
      "\n",
      "brief\n",
      "count     52778\n",
      "unique       20\n",
      "top           0\n",
      "freq      13704\n",
      "Name: brief, dtype: object\n",
      "\n",
      "\n"
     ]
    }
   ],
   "source": [
    "for var in categoric_cols:\n",
    "    print(var)\n",
    "    print(df[var].describe())\n",
    "    print(\"\\n\")"
   ]
  },
  {
   "cell_type": "code",
   "execution_count": 11,
   "metadata": {},
   "outputs": [
    {
     "name": "stdout",
     "output_type": "stream",
     "text": [
      "53\n",
      "['Field_61', 'Field_59', 'Field_58', 'Field_53', 'Field_39', 'Field_62', 'Field_50', 'Field_47', 'Field_42', 'Field_41', 'Field_19', 'E_numOrg', 'E_numQuery', 'Field_79', 'Field_73', 'summary_1m', 'Field_81', 'Field_80', 'Field_78', 'summary_3m', 'A_numOrg', 'A_numQuery', 'summary_6m', 'numOrg', 'partner3_E', 'partner3_D', 'partner4_L', 'partner5_A', 'partner5_D', 'partner5_E', 'partner5_F', 'partner5_G', 'partner2_H', 'partner3_A', 'partner0_A', 'partner0_C', 'partner0_E', 'partner0_F', 'partner0_G', 'partner0_H', 'partner1_A', 'partner1_C', 'partner1_G', 'partner1_H', 'partner2_A', 'partner2_C', 'partner2_D', 'partner2_E', 'partner2_F', 'partner0_D', 'num_of_phone', 'label', 'Field_82']\n"
     ]
    }
   ],
   "source": [
    "ignore_features = ['Field_43','Field_44','Field_45','Field_46', 'diaChi', 'Field_56', \\\n",
    "                   'brief', 'A_startDate', 'A_endDate', 'E_startDate', 'E_endDate']\n",
    "retained_columns = [x  for x in retained_columns if x not in ignore_features]\n",
    "print(len(retained_columns))\n",
    "print(retained_columns)"
   ]
  },
  {
   "cell_type": "code",
   "execution_count": 12,
   "metadata": {},
   "outputs": [
    {
     "name": "stdout",
     "output_type": "stream",
     "text": [
      "Index(['Field_61', 'Field_62', 'Field_47'], dtype='object')\n"
     ]
    }
   ],
   "source": [
    "# encode categorical variables\n",
    "categoric_cols = df[retained_columns].select_dtypes('object').columns\n",
    "print(categoric_cols)"
   ]
  },
  {
   "cell_type": "code",
   "execution_count": 13,
   "metadata": {},
   "outputs": [],
   "source": [
    "minors = list(df['Field_61'].value_counts()[df['Field_61'].value_counts()<200].index)\n",
    "df.loc[df['Field_61'].isin(minors), 'Field_61'] = \"Others known\""
   ]
  },
  {
   "cell_type": "code",
   "execution_count": null,
   "metadata": {},
   "outputs": [],
   "source": [
    "df[['Field_61', 'Field_62', 'Field_47']] = df[['Field_61', 'Field_62', 'Field_47']].fillna(\"Others unknown\")"
   ]
  },
  {
   "cell_type": "code",
   "execution_count": 14,
   "metadata": {},
   "outputs": [],
   "source": [
    "df_filtered = df[retained_columns]\n",
    "df_encode = df_filtered\n",
    "#print(df_filtered.head(5))\n",
    "#df_encode = pd.get_dummies(df_filtered, columns=['Field_61', 'Field_62', 'Field_47'], prefix=['Field_61', 'Field_62', 'Field_47'])\n",
    "#print(df_encode.head(5))\n",
    "#print(len(df_encode))"
   ]
  },
  {
   "cell_type": "code",
   "execution_count": 15,
   "metadata": {},
   "outputs": [
    {
     "data": {
      "text/html": [
       "<div>\n",
       "<style scoped>\n",
       "    .dataframe tbody tr th:only-of-type {\n",
       "        vertical-align: middle;\n",
       "    }\n",
       "\n",
       "    .dataframe tbody tr th {\n",
       "        vertical-align: top;\n",
       "    }\n",
       "\n",
       "    .dataframe thead th {\n",
       "        text-align: right;\n",
       "    }\n",
       "</style>\n",
       "<table border=\"1\" class=\"dataframe\">\n",
       "  <thead>\n",
       "    <tr style=\"text-align: right;\">\n",
       "      <th></th>\n",
       "      <th>Field_59</th>\n",
       "      <th>Field_58</th>\n",
       "      <th>Field_53</th>\n",
       "      <th>Field_39</th>\n",
       "      <th>Field_50</th>\n",
       "      <th>Field_42</th>\n",
       "      <th>Field_41</th>\n",
       "      <th>Field_19</th>\n",
       "    </tr>\n",
       "  </thead>\n",
       "  <tbody>\n",
       "    <tr>\n",
       "      <th>count</th>\n",
       "      <td>25564.000000</td>\n",
       "      <td>25564.000000</td>\n",
       "      <td>25564.000000</td>\n",
       "      <td>25564.000000</td>\n",
       "      <td>25564.000000</td>\n",
       "      <td>25564.000000</td>\n",
       "      <td>25564.000000</td>\n",
       "      <td>25564.000000</td>\n",
       "    </tr>\n",
       "    <tr>\n",
       "      <th>mean</th>\n",
       "      <td>14.984431</td>\n",
       "      <td>1.166289</td>\n",
       "      <td>0.003364</td>\n",
       "      <td>0.809537</td>\n",
       "      <td>0.999765</td>\n",
       "      <td>0.748709</td>\n",
       "      <td>0.762205</td>\n",
       "      <td>0.267022</td>\n",
       "    </tr>\n",
       "    <tr>\n",
       "      <th>std</th>\n",
       "      <td>16.999536</td>\n",
       "      <td>2.004592</td>\n",
       "      <td>0.057904</td>\n",
       "      <td>0.392674</td>\n",
       "      <td>0.015319</td>\n",
       "      <td>0.433764</td>\n",
       "      <td>0.425741</td>\n",
       "      <td>0.835968</td>\n",
       "    </tr>\n",
       "    <tr>\n",
       "      <th>min</th>\n",
       "      <td>0.000000</td>\n",
       "      <td>0.000000</td>\n",
       "      <td>0.000000</td>\n",
       "      <td>0.000000</td>\n",
       "      <td>0.000000</td>\n",
       "      <td>0.000000</td>\n",
       "      <td>0.000000</td>\n",
       "      <td>0.000000</td>\n",
       "    </tr>\n",
       "    <tr>\n",
       "      <th>25%</th>\n",
       "      <td>4.000000</td>\n",
       "      <td>0.000000</td>\n",
       "      <td>0.000000</td>\n",
       "      <td>1.000000</td>\n",
       "      <td>1.000000</td>\n",
       "      <td>0.000000</td>\n",
       "      <td>1.000000</td>\n",
       "      <td>0.000000</td>\n",
       "    </tr>\n",
       "    <tr>\n",
       "      <th>50%</th>\n",
       "      <td>5.000000</td>\n",
       "      <td>0.000000</td>\n",
       "      <td>0.000000</td>\n",
       "      <td>1.000000</td>\n",
       "      <td>1.000000</td>\n",
       "      <td>1.000000</td>\n",
       "      <td>1.000000</td>\n",
       "      <td>0.000000</td>\n",
       "    </tr>\n",
       "    <tr>\n",
       "      <th>75%</th>\n",
       "      <td>33.000000</td>\n",
       "      <td>2.000000</td>\n",
       "      <td>0.000000</td>\n",
       "      <td>1.000000</td>\n",
       "      <td>1.000000</td>\n",
       "      <td>1.000000</td>\n",
       "      <td>1.000000</td>\n",
       "      <td>0.000000</td>\n",
       "    </tr>\n",
       "    <tr>\n",
       "      <th>max</th>\n",
       "      <td>160.000000</td>\n",
       "      <td>5.000000</td>\n",
       "      <td>1.000000</td>\n",
       "      <td>1.000000</td>\n",
       "      <td>1.000000</td>\n",
       "      <td>1.000000</td>\n",
       "      <td>1.000000</td>\n",
       "      <td>6.864000</td>\n",
       "    </tr>\n",
       "  </tbody>\n",
       "</table>\n",
       "</div>"
      ],
      "text/plain": [
       "           Field_59      Field_58      Field_53      Field_39      Field_50  \\\n",
       "count  25564.000000  25564.000000  25564.000000  25564.000000  25564.000000   \n",
       "mean      14.984431      1.166289      0.003364      0.809537      0.999765   \n",
       "std       16.999536      2.004592      0.057904      0.392674      0.015319   \n",
       "min        0.000000      0.000000      0.000000      0.000000      0.000000   \n",
       "25%        4.000000      0.000000      0.000000      1.000000      1.000000   \n",
       "50%        5.000000      0.000000      0.000000      1.000000      1.000000   \n",
       "75%       33.000000      2.000000      0.000000      1.000000      1.000000   \n",
       "max      160.000000      5.000000      1.000000      1.000000      1.000000   \n",
       "\n",
       "           Field_42      Field_41      Field_19  \n",
       "count  25564.000000  25564.000000  25564.000000  \n",
       "mean       0.748709      0.762205      0.267022  \n",
       "std        0.433764      0.425741      0.835968  \n",
       "min        0.000000      0.000000      0.000000  \n",
       "25%        0.000000      1.000000      0.000000  \n",
       "50%        1.000000      1.000000      0.000000  \n",
       "75%        1.000000      1.000000      0.000000  \n",
       "max        1.000000      1.000000      6.864000  "
      ]
     },
     "execution_count": 15,
     "metadata": {},
     "output_type": "execute_result"
    }
   ],
   "source": [
    "df_encode[['Field_59', 'Field_58', 'Field_53', 'Field_39', 'Field_50', 'Field_42', 'Field_41', 'Field_19']].describe()"
   ]
  },
  {
   "cell_type": "code",
   "execution_count": 17,
   "metadata": {},
   "outputs": [
    {
     "name": "stdout",
     "output_type": "stream",
     "text": [
      "53030\n",
      "27466\n",
      "[ 0.  3.  4. ... nan nan nan]\n",
      "Field_59 = 0.0 number of 1 = 0, number of 0 = 1, other\n",
      "Field_59 = 3.0 number of 1 = 229, number of 0 = 770, other\n",
      "Field_59 = 4.0 number of 1 = 2050, number of 0 = 4026, other\n",
      "Field_59 = 5.0 number of 1 = 2027, number of 0 = 6157, other\n",
      "Field_59 = 6.0 number of 1 = 339, number of 0 = 1649, other\n",
      "Field_59 = 7.0 number of 1 = 15, number of 0 = 112, other\n",
      "Field_59 = 8.0 number of 1 = 15, number of 0 = 31, other\n",
      "Field_59 = 9.0 number of 1 = 22, number of 0 = 106, other\n",
      "Field_59 = 10.0 number of 1 = 6, number of 0 = 24, other\n",
      "Field_59 = 16.0 number of 1 = 4, number of 0 = 11, other\n",
      "Field_59 = 17.0 number of 1 = 2, number of 0 = 5, other\n",
      "Field_59 = 20.0 number of 1 = 2, number of 0 = 3, other\n",
      "Field_59 = 21.0 number of 1 = 11, number of 0 = 16, other\n",
      "Field_59 = 23.0 number of 1 = 2, number of 0 = 6, other\n",
      "Field_59 = 26.0 number of 1 = 64, number of 0 = 88, other\n",
      "Field_59 = 28.0 number of 1 = 1, number of 0 = 15, other\n",
      "Field_59 = 29.0 number of 1 = 3, number of 0 = 26, other\n",
      "Field_59 = 31.0 number of 1 = 84, number of 0 = 293, other\n",
      "Field_59 = 32.0 number of 1 = 1, number of 0 = 6, other\n",
      "Field_59 = 33.0 number of 1 = 1584, number of 0 = 3278, other\n",
      "Field_59 = 35.0 number of 1 = 355, number of 0 = 972, other\n",
      "Field_59 = 36.0 number of 1 = 31, number of 0 = 87, other\n",
      "Field_59 = 39.0 number of 1 = 5, number of 0 = 9, other\n",
      "Field_59 = 40.0 number of 1 = 1, number of 0 = 0, other\n",
      "Field_59 = 42.0 number of 1 = 0, number of 0 = 2, other\n",
      "Field_59 = 46.0 number of 1 = 1, number of 0 = 0, other\n",
      "Field_59 = 49.0 number of 1 = 6, number of 0 = 6, other\n",
      "Field_59 = 50.0 number of 1 = 3, number of 0 = 2, other\n",
      "Field_59 = 51.0 number of 1 = 72, number of 0 = 111, other\n",
      "Field_59 = 53.0 number of 1 = 103, number of 0 = 164, other\n",
      "Field_59 = 55.0 number of 1 = 1, number of 0 = 5, other\n",
      "Field_59 = 82.0 number of 1 = 76, number of 0 = 132, other\n",
      "Field_59 = 83.0 number of 1 = 89, number of 0 = 160, other\n",
      "Field_59 = 84.0 number of 1 = 26, number of 0 = 57, other\n",
      "Field_59 = 160.0 number of 1 = 0, number of 0 = 4, other\n",
      "Field_59 is na number of 1 = 9566, number of 0 = 17900, other\n"
     ]
    },
    {
     "data": {
      "text/plain": [
       "0"
      ]
     },
     "execution_count": 17,
     "metadata": {},
     "output_type": "execute_result"
    }
   ],
   "source": [
    "def corr_var_target(df, col):\n",
    "    print(np.unique(df[col].values))\n",
    "    \n",
    "    unique_vals = np.unique(df.loc[df[col].isna() == False,col].values)\n",
    "    for v in unique_vals:\n",
    "        labels = df.loc[df[col]==v,'label']\n",
    "        print(f'{col} = {v} number of 1 = {sum(labels==1)}, number of 0 = {sum(labels==0)}, other')\n",
    "    '''\n",
    "    labels = df.loc[df[col]==0,'label']\n",
    "    print(f'{col} = 0 number of 1 = {sum(labels==1)}, number of 0 = {sum(labels==0)}, other')\n",
    "    '''\n",
    "    labels = df.loc[df[col].isna(),'label']\n",
    "    print(f'{col} is na number of 1 = {sum(labels==1)}, number of 0 = {sum(labels==0)}, other')\n",
    "    \n",
    "    return 0\n",
    "\n",
    "col = 'Field_59'\n",
    "print(len(df_encode))\n",
    "print(df_encode[col].isna().sum())\n",
    "corr_var_target(df_encode, col)"
   ]
  },
  {
   "cell_type": "code",
   "execution_count": 18,
   "metadata": {},
   "outputs": [
    {
     "name": "stderr",
     "output_type": "stream",
     "text": [
      "C:\\ProgramData\\Anaconda3\\lib\\site-packages\\pandas\\core\\frame.py:3140: SettingWithCopyWarning: \n",
      "A value is trying to be set on a copy of a slice from a DataFrame.\n",
      "Try using .loc[row_indexer,col_indexer] = value instead\n",
      "\n",
      "See the caveats in the documentation: http://pandas.pydata.org/pandas-docs/stable/indexing.html#indexing-view-versus-copy\n",
      "  self[k1] = value[k2]\n"
     ]
    }
   ],
   "source": [
    "# fill na by new value\n",
    "\n",
    "cols = ['Field_53', 'Field_39','Field_50','Field_42', 'Field_41']\n",
    "df_encode[cols] = df_encode[cols].fillna(-1)"
   ]
  },
  {
   "cell_type": "code",
   "execution_count": 19,
   "metadata": {},
   "outputs": [
    {
     "data": {
      "text/plain": [
       "array([[<matplotlib.axes._subplots.AxesSubplot object at 0x000001BB2EB0C940>,\n",
       "        <matplotlib.axes._subplots.AxesSubplot object at 0x000001BB4130F208>],\n",
       "       [<matplotlib.axes._subplots.AxesSubplot object at 0x000001BB413407B8>,\n",
       "        <matplotlib.axes._subplots.AxesSubplot object at 0x000001BB41374D68>]],\n",
       "      dtype=object)"
      ]
     },
     "execution_count": 19,
     "metadata": {},
     "output_type": "execute_result"
    },
    {
     "data": {
      "image/png": "[encoded data removed]",
      "text/plain": [
       "<Figure size 432x288 with 4 Axes>"
      ]
     },
     "metadata": {
      "needs_background": "light"
     },
     "output_type": "display_data"
    }
   ],
   "source": [
    "# continuous variables\n",
    "df_encode[['Field_59', 'Field_58', 'Field_19']].hist(bins=3)"
   ]
  },
  {
   "cell_type": "code",
   "execution_count": 20,
   "metadata": {},
   "outputs": [
    {
     "data": {
      "text/html": [
       "<div>\n",
       "<style scoped>\n",
       "    .dataframe tbody tr th:only-of-type {\n",
       "        vertical-align: middle;\n",
       "    }\n",
       "\n",
       "    .dataframe tbody tr th {\n",
       "        vertical-align: top;\n",
       "    }\n",
       "\n",
       "    .dataframe thead th {\n",
       "        text-align: right;\n",
       "    }\n",
       "</style>\n",
       "<table border=\"1\" class=\"dataframe\">\n",
       "  <thead>\n",
       "    <tr style=\"text-align: right;\">\n",
       "      <th></th>\n",
       "      <th>Field_19</th>\n",
       "      <th>Field_58</th>\n",
       "      <th>Field_59</th>\n",
       "    </tr>\n",
       "  </thead>\n",
       "  <tbody>\n",
       "    <tr>\n",
       "      <th>count</th>\n",
       "      <td>25564.000000</td>\n",
       "      <td>25564.000000</td>\n",
       "      <td>25564.000000</td>\n",
       "    </tr>\n",
       "    <tr>\n",
       "      <th>mean</th>\n",
       "      <td>0.267022</td>\n",
       "      <td>1.166289</td>\n",
       "      <td>14.984431</td>\n",
       "    </tr>\n",
       "    <tr>\n",
       "      <th>std</th>\n",
       "      <td>0.835968</td>\n",
       "      <td>2.004592</td>\n",
       "      <td>16.999536</td>\n",
       "    </tr>\n",
       "    <tr>\n",
       "      <th>min</th>\n",
       "      <td>0.000000</td>\n",
       "      <td>0.000000</td>\n",
       "      <td>0.000000</td>\n",
       "    </tr>\n",
       "    <tr>\n",
       "      <th>25%</th>\n",
       "      <td>0.000000</td>\n",
       "      <td>0.000000</td>\n",
       "      <td>4.000000</td>\n",
       "    </tr>\n",
       "    <tr>\n",
       "      <th>50%</th>\n",
       "      <td>0.000000</td>\n",
       "      <td>0.000000</td>\n",
       "      <td>5.000000</td>\n",
       "    </tr>\n",
       "    <tr>\n",
       "      <th>75%</th>\n",
       "      <td>0.000000</td>\n",
       "      <td>2.000000</td>\n",
       "      <td>33.000000</td>\n",
       "    </tr>\n",
       "    <tr>\n",
       "      <th>max</th>\n",
       "      <td>6.864000</td>\n",
       "      <td>5.000000</td>\n",
       "      <td>160.000000</td>\n",
       "    </tr>\n",
       "  </tbody>\n",
       "</table>\n",
       "</div>"
      ],
      "text/plain": [
       "           Field_19      Field_58      Field_59\n",
       "count  25564.000000  25564.000000  25564.000000\n",
       "mean       0.267022      1.166289     14.984431\n",
       "std        0.835968      2.004592     16.999536\n",
       "min        0.000000      0.000000      0.000000\n",
       "25%        0.000000      0.000000      4.000000\n",
       "50%        0.000000      0.000000      5.000000\n",
       "75%        0.000000      2.000000     33.000000\n",
       "max        6.864000      5.000000    160.000000"
      ]
     },
     "execution_count": 20,
     "metadata": {},
     "output_type": "execute_result"
    }
   ],
   "source": [
    "df_encode[['Field_19','Field_58','Field_59']].describe()"
   ]
  },
  {
   "cell_type": "code",
   "execution_count": null,
   "metadata": {},
   "outputs": [],
   "source": [
    "# fill na of continuous varaibles\n",
    "df_encode['Field_19'] = df_encode['Field_19'].fillna(df['Field_19'].median())\n",
    "df_encode['Field_58'] = df_encode['Field_58'].fillna(df['Field_58'].median())\n",
    "df_encode['Field_59'] = df_encode['Field_59'].fillna(df['Field_59'].median())"
   ]
  },
  {
   "cell_type": "code",
   "execution_count": 21,
   "metadata": {},
   "outputs": [
    {
     "data": {
      "text/html": [
       "<div>\n",
       "<style scoped>\n",
       "    .dataframe tbody tr th:only-of-type {\n",
       "        vertical-align: middle;\n",
       "    }\n",
       "\n",
       "    .dataframe tbody tr th {\n",
       "        vertical-align: top;\n",
       "    }\n",
       "\n",
       "    .dataframe thead th {\n",
       "        text-align: right;\n",
       "    }\n",
       "</style>\n",
       "<table border=\"1\" class=\"dataframe\">\n",
       "  <thead>\n",
       "    <tr style=\"text-align: right;\">\n",
       "      <th></th>\n",
       "      <th>E_numOrg</th>\n",
       "      <th>E_numQuery</th>\n",
       "      <th>Field_79</th>\n",
       "      <th>Field_73</th>\n",
       "      <th>summary_1m</th>\n",
       "      <th>Field_81</th>\n",
       "      <th>Field_80</th>\n",
       "      <th>Field_78</th>\n",
       "    </tr>\n",
       "  </thead>\n",
       "  <tbody>\n",
       "    <tr>\n",
       "      <th>count</th>\n",
       "      <td>25710.000000</td>\n",
       "      <td>25710.000000</td>\n",
       "      <td>27782.000000</td>\n",
       "      <td>29111.000000</td>\n",
       "      <td>35521.000000</td>\n",
       "      <td>35981.000000</td>\n",
       "      <td>36320.000000</td>\n",
       "      <td>36397.00000</td>\n",
       "    </tr>\n",
       "    <tr>\n",
       "      <th>mean</th>\n",
       "      <td>1.306690</td>\n",
       "      <td>1.602878</td>\n",
       "      <td>30.911307</td>\n",
       "      <td>0.987084</td>\n",
       "      <td>5.638467</td>\n",
       "      <td>-32.149412</td>\n",
       "      <td>-1.793163</td>\n",
       "      <td>20.80144</td>\n",
       "    </tr>\n",
       "    <tr>\n",
       "      <th>std</th>\n",
       "      <td>0.598556</td>\n",
       "      <td>1.058765</td>\n",
       "      <td>35.968215</td>\n",
       "      <td>0.112915</td>\n",
       "      <td>8.387879</td>\n",
       "      <td>63.442452</td>\n",
       "      <td>32.176041</td>\n",
       "      <td>40.10993</td>\n",
       "    </tr>\n",
       "    <tr>\n",
       "      <th>min</th>\n",
       "      <td>1.000000</td>\n",
       "      <td>1.000000</td>\n",
       "      <td>0.000000</td>\n",
       "      <td>0.000000</td>\n",
       "      <td>1.000000</td>\n",
       "      <td>-290.000000</td>\n",
       "      <td>-267.000000</td>\n",
       "      <td>-267.00000</td>\n",
       "    </tr>\n",
       "    <tr>\n",
       "      <th>25%</th>\n",
       "      <td>1.000000</td>\n",
       "      <td>1.000000</td>\n",
       "      <td>5.326888</td>\n",
       "      <td>1.000000</td>\n",
       "      <td>2.000000</td>\n",
       "      <td>-69.000000</td>\n",
       "      <td>-5.600000</td>\n",
       "      <td>4.00000</td>\n",
       "    </tr>\n",
       "    <tr>\n",
       "      <th>50%</th>\n",
       "      <td>1.000000</td>\n",
       "      <td>1.000000</td>\n",
       "      <td>15.556349</td>\n",
       "      <td>1.000000</td>\n",
       "      <td>5.000000</td>\n",
       "      <td>0.000000</td>\n",
       "      <td>2.086957</td>\n",
       "      <td>16.00000</td>\n",
       "    </tr>\n",
       "    <tr>\n",
       "      <th>75%</th>\n",
       "      <td>1.000000</td>\n",
       "      <td>2.000000</td>\n",
       "      <td>46.013087</td>\n",
       "      <td>1.000000</td>\n",
       "      <td>7.000000</td>\n",
       "      <td>1.000000</td>\n",
       "      <td>9.500000</td>\n",
       "      <td>36.00000</td>\n",
       "    </tr>\n",
       "    <tr>\n",
       "      <th>max</th>\n",
       "      <td>7.000000</td>\n",
       "      <td>46.000000</td>\n",
       "      <td>325.976226</td>\n",
       "      <td>1.000000</td>\n",
       "      <td>791.000000</td>\n",
       "      <td>238.000000</td>\n",
       "      <td>238.000000</td>\n",
       "      <td>242.00000</td>\n",
       "    </tr>\n",
       "  </tbody>\n",
       "</table>\n",
       "</div>"
      ],
      "text/plain": [
       "           E_numOrg    E_numQuery      Field_79      Field_73    summary_1m  \\\n",
       "count  25710.000000  25710.000000  27782.000000  29111.000000  35521.000000   \n",
       "mean       1.306690      1.602878     30.911307      0.987084      5.638467   \n",
       "std        0.598556      1.058765     35.968215      0.112915      8.387879   \n",
       "min        1.000000      1.000000      0.000000      0.000000      1.000000   \n",
       "25%        1.000000      1.000000      5.326888      1.000000      2.000000   \n",
       "50%        1.000000      1.000000     15.556349      1.000000      5.000000   \n",
       "75%        1.000000      2.000000     46.013087      1.000000      7.000000   \n",
       "max        7.000000     46.000000    325.976226      1.000000    791.000000   \n",
       "\n",
       "           Field_81      Field_80     Field_78  \n",
       "count  35981.000000  36320.000000  36397.00000  \n",
       "mean     -32.149412     -1.793163     20.80144  \n",
       "std       63.442452     32.176041     40.10993  \n",
       "min     -290.000000   -267.000000   -267.00000  \n",
       "25%      -69.000000     -5.600000      4.00000  \n",
       "50%        0.000000      2.086957     16.00000  \n",
       "75%        1.000000      9.500000     36.00000  \n",
       "max      238.000000    238.000000    242.00000  "
      ]
     },
     "execution_count": 21,
     "metadata": {},
     "output_type": "execute_result"
    }
   ],
   "source": [
    "df_encode[['E_numOrg', 'E_numQuery', 'Field_79', 'Field_73','summary_1m', 'Field_81', 'Field_80', 'Field_78']].describe()"
   ]
  },
  {
   "cell_type": "markdown",
   "metadata": {},
   "source": []
  },
  {
   "cell_type": "code",
   "execution_count": null,
   "metadata": {},
   "outputs": [],
   "source": [
    "#corr_var_target(df_encode, 'E_numOrg')\n",
    "#corr_var_target(df_encode, 'E_numQuery')\n",
    "#corr_var_target(df_encode, 'Field_73')\n",
    "corr_var_target(df_encode, 'summary_6m')\n",
    "#corr_var_target(df_encode, 'Field_81')"
   ]
  },
  {
   "cell_type": "markdown",
   "metadata": {},
   "source": [
    "Column 'E_numOrg' with values > 3: 1 group\n",
    "Column 'E_numQuery' with values > 5: 1 group\n",
    "Column 'summary_1m' is grouped by < 6, 6 to 10, 11 to 16, >16"
   ]
  },
  {
   "cell_type": "code",
   "execution_count": null,
   "metadata": {},
   "outputs": [],
   "source": [
    "# fill na of continuous varaibles\n",
    "df_encode.loc[df_encode['E_numOrg']>3,'E_numOrg'] = 4\n",
    "df_encode.loc[df_encode['E_numQuery']>5,'E_numOrg'] = 6"
   ]
  },
  {
   "cell_type": "code",
   "execution_count": null,
   "metadata": {},
   "outputs": [],
   "source": [
    "#df_encode.loc[(df_encode['summary_1m']>=6)&(df_encode['summary_1m']<=10), 'summary_1m'] = 6\n",
    "#df_encode.loc[(df_encode['summary_1m']>10)&(df_encode['summary_1m']<=16), 'summary_1m'] = 10\n",
    "#df_encode.loc[(df_encode['summary_1m']>16), 'summary_1m'] = 17"
   ]
  },
  {
   "cell_type": "code",
   "execution_count": null,
   "metadata": {},
   "outputs": [],
   "source": [
    "# fill na by -1\n",
    "cols = ['E_numOrg','E_numQuery','Field_73']\n",
    "df_encode[cols] = df_encode[cols].fillna(-1)"
   ]
  },
  {
   "cell_type": "code",
   "execution_count": null,
   "metadata": {},
   "outputs": [],
   "source": [
    "# fill na by mean\n",
    "cols = ['Field_79','Field_81','Field_80','Field_78']\n",
    "df_encode[cols] = df_encode[cols].fillna(df_encode.median())"
   ]
  },
  {
   "cell_type": "code",
   "execution_count": null,
   "metadata": {},
   "outputs": [],
   "source": [
    "df_encode[['summary_1m','summary_3m', 'summary_6m']] = df_encode[['summary_1m','summary_3m', 'summary_6m']].fillna(0)"
   ]
  },
  {
   "cell_type": "code",
   "execution_count": null,
   "metadata": {},
   "outputs": [],
   "source": [
    "df_encode[['A_numOrg','A_numQuery','numOrg','num_of_phone','Field_82']].describe()"
   ]
  },
  {
   "cell_type": "code",
   "execution_count": null,
   "metadata": {},
   "outputs": [],
   "source": [
    "corr_var_target(df_encode, 'A_numOrg')\n",
    "corr_var_target(df_encode, 'A_numQuery')\n",
    "corr_var_target(df_encode, 'numOrg')\n",
    "corr_var_target(df_encode, 'num_of_phone')\n",
    "corr_var_target(df_encode, 'Field_82')"
   ]
  },
  {
   "cell_type": "code",
   "execution_count": null,
   "metadata": {},
   "outputs": [],
   "source": [
    "df_encode[['A_numOrg','A_numQuery', 'num_of_phone', 'Field_82']] = df_encode[['A_numOrg','A_numQuery', 'num_of_phone', 'Field_82']].fillna(0)\n"
   ]
  },
  {
   "cell_type": "code",
   "execution_count": null,
   "metadata": {},
   "outputs": [],
   "source": [
    "df_encode['numOrg'] = df_encode['numOrg'].fillna(-1)"
   ]
  },
  {
   "cell_type": "code",
   "execution_count": null,
   "metadata": {},
   "outputs": [],
   "source": [
    "df_encode.isna().any(axis=1).sum()"
   ]
  },
  {
   "cell_type": "code",
   "execution_count": null,
   "metadata": {},
   "outputs": [],
   "source": [
    "df_encode[['partner3_E', 'partner3_D', 'partner4_L', \\\n",
    " 'partner5_A', 'partner5_D', 'partner5_E', 'partner5_F', 'partner5_G', \\\n",
    " 'partner2_H', 'partner3_A', 'partner0_A', 'partner0_C', 'partner0_E', \\\n",
    " 'partner0_F', 'partner0_G', 'partner0_H', 'partner1_A', 'partner1_C', \\\n",
    " 'partner1_G', 'partner1_H', 'partner2_A', 'partner2_C', 'partner2_D', \\\n",
    " 'partner2_E', 'partner2_F', 'partner0_D']].describe()"
   ]
  },
  {
   "cell_type": "code",
   "execution_count": null,
   "metadata": {},
   "outputs": [],
   "source": [
    "corr_var_target(df_encode, 'partner2_H')"
   ]
  },
  {
   "cell_type": "code",
   "execution_count": null,
   "metadata": {},
   "outputs": [],
   "source": [
    "\n",
    "df_encode[['partner3_E', 'partner3_D', 'partner4_L', \\\n",
    " 'partner5_A', 'partner5_D', 'partner5_E', 'partner5_F', 'partner5_G', \\\n",
    " 'partner2_H', 'partner3_A', 'partner0_A', 'partner0_C', 'partner0_E', \\\n",
    " 'partner0_F', 'partner0_G', 'partner0_H', 'partner1_A', 'partner1_C', \\\n",
    " 'partner1_G', 'partner1_H', 'partner2_A', 'partner2_C', 'partner2_D', \\\n",
    " 'partner2_E', 'partner2_F', 'partner0_D']] = df_encode[['partner3_E', 'partner3_D', 'partner4_L', \\\n",
    " 'partner5_A', 'partner5_D', 'partner5_E', 'partner5_F', 'partner5_G', \\\n",
    " 'partner2_H', 'partner3_A', 'partner0_A', 'partner0_C', 'partner0_E', \\\n",
    " 'partner0_F', 'partner0_G', 'partner0_H', 'partner1_A', 'partner1_C', \\\n",
    " 'partner1_G', 'partner1_H', 'partner2_A', 'partner2_C', 'partner2_D', \\\n",
    " 'partner2_E', 'partner2_F', 'partner0_D']].fillna(-1)"
   ]
  },
  {
   "cell_type": "code",
   "execution_count": null,
   "metadata": {},
   "outputs": [],
   "source": [
    "df_encode.isna().any(axis=1).sum()"
   ]
  },
  {
   "cell_type": "code",
   "execution_count": null,
   "metadata": {},
   "outputs": [],
   "source": [
    "df_encode['partner0_G'].isna().sum()"
   ]
  },
  {
   "cell_type": "code",
   "execution_count": null,
   "metadata": {},
   "outputs": [],
   "source": [
    "df_encode[['partner3_E', 'partner3_D', 'partner4_L', \\\n",
    " 'partner5_A', 'partner5_D', 'partner5_E', 'partner5_F', 'partner5_G', \\\n",
    " 'partner2_H', 'partner3_A', 'partner0_A', 'partner0_C', 'partner0_E', \\\n",
    " 'partner0_F', 'partner0_G', 'partner0_H', 'partner1_A', 'partner1_C', \\\n",
    " 'partner1_G', 'partner1_H', 'partner2_A', 'partner2_C', 'partner2_D', \\\n",
    " 'partner2_E', 'partner2_F', 'partner0_D']].isna().any(axis=1).sum()"
   ]
  },
  {
   "cell_type": "code",
   "execution_count": null,
   "metadata": {},
   "outputs": [],
   "source": [
    "df_encode[['A_numOrg','A_numQuery','numOrg','num_of_phone','Field_82']].isna().any(axis=1).sum()"
   ]
  },
  {
   "cell_type": "code",
   "execution_count": null,
   "metadata": {},
   "outputs": [],
   "source": [
    "#df_missing = [c, df_encode.isna()mean()*100]\n",
    "NAN = [(c, df_encode[c].isna().mean()*100) for c in df_encode]\n",
    "NAN = pd.DataFrame(NAN, columns=[\"column_name\", \"percentage\"])\n",
    "NAN"
   ]
  },
  {
   "cell_type": "code",
   "execution_count": null,
   "metadata": {},
   "outputs": [],
   "source": [
    "cat_cols = ['Field_61', 'Field_62', 'Field_47', 'Field_53', 'Field_39','Field_50','Field_42', 'Field_41', \\\n",
    "'E_numOrg', 'E_numQuery', 'Field_73', 'partner3_E', 'partner3_D', 'partner4_L', \\\n",
    " 'partner5_A', 'partner5_D', 'partner5_E', 'partner5_F', 'partner5_G', \\\n",
    " 'partner2_H', 'partner3_A', 'partner0_A', 'partner0_C', 'partner0_E', \\\n",
    " 'partner0_F', 'partner0_G', 'partner0_H', 'partner1_A', 'partner1_C', \\\n",
    " 'partner1_G', 'partner1_H', 'partner2_A', 'partner2_C', 'partner2_D', \\\n",
    " 'partner2_E', 'partner2_F', 'partner0_D']\n",
    "df_encode = pd.get_dummies(df_filtered, columns=cat_cols, prefix=cat_cols)"
   ]
  },
  {
   "cell_type": "code",
   "execution_count": null,
   "metadata": {},
   "outputs": [],
   "source": [
    "sum(df_encode['label']==1)\n",
    "sum(df_encode['label']==0)"
   ]
  },
  {
   "cell_type": "code",
   "execution_count": null,
   "metadata": {},
   "outputs": [],
   "source": []
  },
  {
   "cell_type": "markdown",
   "metadata": {},
   "source": [
    "### 5. Modelling"
   ]
  },
  {
   "cell_type": "code",
   "execution_count": null,
   "metadata": {
    "scrolled": true
   },
   "outputs": [],
   "source": [
    "from sklearn.model_selection import train_test_split\n",
    "\n",
    "features = [c for c in df_encode.columns if c != 'label']\n",
    "X = df_encode[features].values\n",
    "Y = df_encode['label']\n",
    "X_train, X_test, y_train, y_test = train_test_split(X, Y, test_size=0.3, random_state=0)\n",
    "print(X_train)"
   ]
  },
  {
   "cell_type": "code",
   "execution_count": null,
   "metadata": {},
   "outputs": [],
   "source": [
    "from sklearn.linear_model import LogisticRegression\n",
    "\n",
    "clf = LogisticRegression(random_state=0).fit(X_train, y_train)\n",
    "pred = clf.predict(X_test)\n"
   ]
  },
  {
   "cell_type": "code",
   "execution_count": null,
   "metadata": {},
   "outputs": [],
   "source": [
    "# accuracy\n",
    "df_result = pd.DataFrame({'act':y_test, 'pred':pred})\n",
    "\n",
    "TP = len(df_result[(df_result['act']==df_result['pred'])&(df_result['pred']==1)])\n",
    "FP = len(df_result[(df_result['act']!=df_result['pred'])&(df_result['pred']==1)])\n",
    "TN = len(df_result[(df_result['act']==df_result['pred'])&(df_result['pred']==0)])\n",
    "FN = len(df_result[(df_result['act']!=df_result['pred'])&(df_result['pred']==0)])\n",
    "accuracy = (TP + TN)/(TP + FP + TN + FN)\n",
    "print(f\"TP = {TP}, FP = {FP}, TN = {TN}, FN = {FN}, accuracy = {accuracy}\")"
   ]
  },
  {
   "cell_type": "code",
   "execution_count": null,
   "metadata": {},
   "outputs": [],
   "source": [
    "df_result"
   ]
  },
  {
   "cell_type": "code",
   "execution_count": null,
   "metadata": {},
   "outputs": [],
   "source": [
    "from sklearn.ensemble import RandomForestClassifier\n",
    "clf = RandomForestClassifier(n_estimators = 20).fit(X_train, y_train)\n",
    "pred = clf.predict(X_test)\n",
    "df_result = pd.DataFrame({'act':y_test, 'pred':pred})\n",
    "\n",
    "TP = len(df_result[(df_result['act']==df_result['pred'])&(df_result['pred']==1)])\n",
    "FP = len(df_result[(df_result['act']!=df_result['pred'])&(df_result['pred']==1)])\n",
    "TN = len(df_result[(df_result['act']==df_result['pred'])&(df_result['pred']==0)])\n",
    "FN = len(df_result[(df_result['act']!=df_result['pred'])&(df_result['pred']==0)])\n",
    "accuracy = (TP + TN)/(TP + FP + TN + FN)\n",
    "print(f\"TP = {TP}, FP = {FP}, TN = {TN}, FN = {FN}, accuracy = {accuracy}\")"
   ]
  },
  {
   "cell_type": "code",
   "execution_count": null,
   "metadata": {},
   "outputs": [],
   "source": [
    "def process_data(df, retained_columns):\n",
    "    \n",
    "    retained_columns.remove('Field_61')\n",
    "    \n",
    "    categoric_cols = df[retained_columns].select_dtypes('object').columns\n",
    "    print(categoric_cols)\n",
    "    \n",
    "    df.loc[df['Field_61'].isin(minors), 'Field_61'] = \"Others known\"\n",
    "    df[['Field_61', 'Field_62', 'Field_47']] = df[['Field_61', 'Field_62', 'Field_47']].fillna(\"Others unknown\")\n",
    "    \n",
    "    df_filtered = df[retained_columns]\n",
    "    df_encode = df_filtered\n",
    "\n",
    "    cols = ['Field_53', 'Field_39','Field_50','Field_42', 'Field_41']\n",
    "    df_encode[cols] = df_encode[cols].fillna(-1)\n",
    "    \n",
    "    df_encode['Field_19'] = df_encode['Field_19'].fillna(df['Field_19'].median())\n",
    "    df_encode['Field_58'] = df_encode['Field_58'].fillna(df['Field_58'].median())\n",
    "    df_encode['Field_59'] = df_encode['Field_59'].fillna(df['Field_59'].median())\n",
    "\n",
    "    df_encode.loc[df_encode['E_numOrg']>3,'E_numOrg'] = 4\n",
    "    df_encode.loc[df_encode['E_numQuery']>5,'E_numOrg'] = 6\n",
    "    \n",
    "    cols = ['E_numOrg','E_numQuery','Field_73']\n",
    "    df_encode[cols] = df_encode[cols].fillna(-1)\n",
    "    \n",
    "    cols = ['Field_79','Field_81','Field_80','Field_78']\n",
    "    df_encode[cols] = df_encode[cols].fillna(df_encode.median())\n",
    "    \n",
    "    df_encode[['A_numOrg','A_numQuery', 'num_of_phone', 'Field_82']] = df_encode[['A_numOrg','A_numQuery', 'num_of_phone', 'Field_82']].fillna(0)\n",
    "    df_encode[['summary_1m','summary_3m', 'summary_6m']] = df_encode[['summary_1m','summary_3m', 'summary_6m']].fillna(0)\n",
    "    \n",
    "    df_encode['numOrg'] = df_encode['numOrg'].fillna(-1)\n",
    "    df_encode[['partner3_E', 'partner3_D', 'partner4_L', \\\n",
    "     'partner5_A', 'partner5_D', 'partner5_E', 'partner5_F', 'partner5_G', \\\n",
    "     'partner2_H', 'partner3_A', 'partner0_A', 'partner0_C', 'partner0_E', \\\n",
    "     'partner0_F', 'partner0_G', 'partner0_H', 'partner1_A', 'partner1_C', \\\n",
    "     'partner1_G', 'partner1_H', 'partner2_A', 'partner2_C', 'partner2_D', \\\n",
    "     'partner2_E', 'partner2_F', 'partner0_D']] = df_encode[['partner3_E', 'partner3_D', 'partner4_L', \\\n",
    "     'partner5_A', 'partner5_D', 'partner5_E', 'partner5_F', 'partner5_G', \\\n",
    "     'partner2_H', 'partner3_A', 'partner0_A', 'partner0_C', 'partner0_E', \\\n",
    "     'partner0_F', 'partner0_G', 'partner0_H', 'partner1_A', 'partner1_C', \\\n",
    "     'partner1_G', 'partner1_H', 'partner2_A', 'partner2_C', 'partner2_D', \\\n",
    "     'partner2_E', 'partner2_F', 'partner0_D']].fillna(-1)\n",
    "    \n",
    "    df_encode = pd.get_dummies(df_encode, columns = categoric_cols, prefix = categoric_cols)\n",
    "    \n",
    "    return df_encode"
   ]
  },
  {
   "cell_type": "code",
   "execution_count": null,
   "metadata": {},
   "outputs": [],
   "source": [
    "\n",
    "features = retained_columns\n",
    "\n",
    "if not \"id\" in features:\n",
    "    features.append(\"id\")\n",
    "if \"label\" in features:\n",
    "    features.remove(\"label\")\n",
    "    \n",
    "df = pd.concat([df_train[features], df_test[features]], axis = 0)\n",
    "df_encode = process_data(df, features)\n",
    "\n"
   ]
  },
  {
   "cell_type": "code",
   "execution_count": null,
   "metadata": {},
   "outputs": [],
   "source": [
    "df_encode_train = df_encode[df_encode['id'].isin((df_train['id'].values))]\n",
    "df_encode_test = df_encode[df_encode['id'].isin((df_test['id'].values))]"
   ]
  },
  {
   "cell_type": "code",
   "execution_count": null,
   "metadata": {},
   "outputs": [],
   "source": [
    "from sklearn.ensemble import RandomForestClassifier\n",
    "\n",
    "features = list(df_encode.columns.values)\n",
    "features_model = features.copy()\n",
    "features_model.remove('id')\n",
    "\n",
    "df_encode_train = df_encode_train.sort_values(by = 'id')\n",
    "df_train = df_train.sort_values(by = 'id')\n",
    "df_encode_test = df_encode_test.sort_values(by = 'id')\n",
    "df_test = df_test.sort_values(by = 'id')\n",
    "\n",
    "X_train = df_encode_train[features_model]\n",
    "y_train = df_train['label']\n",
    "\n",
    "\n",
    "X_test = df_encode_test[features_model]\n",
    "clf = RandomForestClassifier(n_estimators = 20).fit(X_train, y_train)\n",
    "pred = clf.predict(X_test)\n",
    "\n"
   ]
  },
  {
   "cell_type": "code",
   "execution_count": null,
   "metadata": {},
   "outputs": [],
   "source": [
    "\n",
    "df_submission = pd.DataFrame({'id':df_test['id'], 'label':pred})\n",
    "df_submission.to_csv(\"submission_nhon.csv\", index = False)"
   ]
  },
  {
   "cell_type": "code",
   "execution_count": null,
   "metadata": {},
   "outputs": [],
   "source": [
    "from xgboost import XGBClassifier\n",
    "model = XGBClassifier(n_estimators = 2)\n"
   ]
  }
 ],
 "metadata": {
  "kernelspec": {
   "display_name": "Python 3",
   "language": "python",
   "name": "python3"
  },
  "language_info": {
   "codemirror_mode": {
    "name": "ipython",
    "version": 3
   },
   "file_extension": ".py",
   "mimetype": "text/x-python",
   "name": "python",
   "nbconvert_exporter": "python",
   "pygments_lexer": "ipython3",
   "version": "3.7.1"
  }
 },
 "nbformat": 4,
 "nbformat_minor": 2
}
